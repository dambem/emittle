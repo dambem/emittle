{
 "cells": [
  {
   "cell_type": "code",
   "execution_count": null,
   "metadata": {},
   "outputs": [],
   "source": [
    "# GOAL IS TO BETTER PARSE THE DATA BACK INTO CSV"
   ]
  },
  {
   "cell_type": "code",
   "execution_count": 3,
   "metadata": {},
   "outputs": [],
   "source": [
    "import pandas\n",
    "\n",
    "df = pandas.read_csv('Emission_Data.csv')\n",
    "df2 = pandas.read_csv('electricitysource.csv')"
   ]
  },
  {
   "cell_type": "code",
   "execution_count": 4,
   "metadata": {},
   "outputs": [
    {
     "name": "stdout",
     "output_type": "stream",
     "text": [
      "                Substance                 Sector         EDGAR       Country  \\\n",
      "0                     CO2            Agriculture           AFG   Afghanistan   \n",
      "1                     CO2            Agriculture           ALB       Albania   \n",
      "2                     CO2            Agriculture           ARG     Argentina   \n",
      "3                     CO2            Agriculture           ARM       Armenia   \n",
      "4                     CO2            Agriculture           AUS     Australia   \n",
      "...                   ...                    ...           ...           ...   \n",
      "4824  Nitrous Oxide (N20)  Industrial Combustion  GLOBAL TOTAL  GLOBAL TOTAL   \n",
      "4825  Nitrous Oxide (N20)         Power Industry  GLOBAL TOTAL  GLOBAL TOTAL   \n",
      "4826  Nitrous Oxide (N20)              Processes  GLOBAL TOTAL  GLOBAL TOTAL   \n",
      "4827  Nitrous Oxide (N20)              Transport  GLOBAL TOTAL  GLOBAL TOTAL   \n",
      "4828  Nitrous Oxide (N20)                  Waste  GLOBAL TOTAL  GLOBAL TOTAL   \n",
      "\n",
      "             val  \n",
      "0       0.046161  \n",
      "1       0.064880  \n",
      "2       2.323375  \n",
      "3       0.036771  \n",
      "4       2.471969  \n",
      "...          ...  \n",
      "4824   25.899784  \n",
      "4825   82.952431  \n",
      "4826  399.441299  \n",
      "4827  107.517225  \n",
      "4828  124.364486  \n",
      "\n",
      "[4829 rows x 5 columns]\n"
     ]
    }
   ],
   "source": [
    "print(df)"
   ]
  }
 ],
 "metadata": {
  "kernelspec": {
   "display_name": "Python 3",
   "language": "python",
   "name": "python3"
  },
  "language_info": {
   "codemirror_mode": {
    "name": "ipython",
    "version": 3
   },
   "file_extension": ".py",
   "mimetype": "text/x-python",
   "name": "python",
   "nbconvert_exporter": "python",
   "pygments_lexer": "ipython3",
   "version": "3.10.12"
  }
 },
 "nbformat": 4,
 "nbformat_minor": 2
}
